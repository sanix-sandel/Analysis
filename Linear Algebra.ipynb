{
 "cells": [
  {
   "cell_type": "markdown",
   "metadata": {},
   "source": [
    "# LINEAR ALGEBRA"
   ]
  },
  {
   "cell_type": "markdown",
   "metadata": {},
   "source": [
    "## Fitting to polynomials with NumPy"
   ]
  },
  {
   "cell_type": "code",
   "execution_count": 1,
   "metadata": {},
   "outputs": [],
   "source": [
    "import numpy as np\n",
    "import matplotlib.pyplot as plt"
   ]
  },
  {
   "cell_type": "code",
   "execution_count": 2,
   "metadata": {},
   "outputs": [],
   "source": [
    "#Generate two random vectors\n",
    "v1=np.random.rand(10)\n",
    "v2=np.random.rand(10)"
   ]
  },
  {
   "cell_type": "code",
   "execution_count": 3,
   "metadata": {},
   "outputs": [
    {
     "data": {
      "text/plain": [
       "array([0.02585691, 0.03485296, 0.04384902, 0.05284507, 0.06184112,\n",
       "       0.07083717, 0.07983322, 0.08882928, 0.09782533, 0.10682138,\n",
       "       0.11581743, 0.12481348, 0.13380954, 0.14280559, 0.15180164,\n",
       "       0.16079769, 0.16979374, 0.1787898 , 0.18778585, 0.1967819 ,\n",
       "       0.20577795, 0.21477401, 0.22377006, 0.23276611, 0.24176216,\n",
       "       0.25075821, 0.25975427, 0.26875032, 0.27774637, 0.28674242,\n",
       "       0.29573847, 0.30473453, 0.31373058, 0.32272663, 0.33172268,\n",
       "       0.34071873, 0.34971479, 0.35871084, 0.36770689, 0.37670294,\n",
       "       0.38569899, 0.39469505, 0.4036911 , 0.41268715, 0.4216832 ,\n",
       "       0.43067926, 0.43967531, 0.44867136, 0.45766741, 0.46666346,\n",
       "       0.47565952, 0.48465557, 0.49365162, 0.50264767, 0.51164372,\n",
       "       0.52063978, 0.52963583, 0.53863188, 0.54762793, 0.55662398,\n",
       "       0.56562004, 0.57461609, 0.58361214, 0.59260819, 0.60160425,\n",
       "       0.6106003 , 0.61959635, 0.6285924 , 0.63758845, 0.64658451,\n",
       "       0.65558056, 0.66457661, 0.67357266, 0.68256871, 0.69156477,\n",
       "       0.70056082, 0.70955687, 0.71855292, 0.72754897, 0.73654503,\n",
       "       0.74554108, 0.75453713, 0.76353318, 0.77252924, 0.78152529,\n",
       "       0.79052134, 0.79951739, 0.80851344, 0.8175095 , 0.82650555,\n",
       "       0.8355016 , 0.84449765, 0.8534937 , 0.86248976, 0.87148581,\n",
       "       0.88048186, 0.88947791, 0.89847396, 0.90747002, 0.91646607])"
      ]
     },
     "execution_count": 3,
     "metadata": {},
     "output_type": "execute_result"
    }
   ],
   "source": [
    "#Creates a sequence of equally separated values\n",
    "sequence=np.linspace(v1.min(), v1.max(), num=len(v1)*10)\n",
    "sequence"
   ]
  },
  {
   "cell_type": "code",
   "execution_count": 4,
   "metadata": {},
   "outputs": [
    {
     "data": {
      "text/plain": [
       "array([-0.49246331,  1.84560633, -0.99423551,  0.49964065])"
      ]
     },
     "execution_count": 4,
     "metadata": {},
     "output_type": "execute_result"
    }
   ],
   "source": [
    "#Fit the data to polynomial fit data with 4 degrees of the polynomial\n",
    "coefs=np.polyfit(v1, v2, 3)\n",
    "coefs"
   ]
  },
  {
   "cell_type": "code",
   "execution_count": 6,
   "metadata": {},
   "outputs": [
    {
     "data": {
      "text/plain": [
       "array([0.47515821, 0.46720966, 0.4595515 , 0.45218157, 0.44509774,\n",
       "       0.43829785, 0.43177974, 0.42554127, 0.41958028, 0.41389463,\n",
       "       0.40848215, 0.40334071, 0.39846815, 0.39386232, 0.38952106,\n",
       "       0.38544223, 0.38162368, 0.37806325, 0.37475879, 0.37170815,\n",
       "       0.36890918, 0.36635973, 0.36405765, 0.36200079, 0.36018699,\n",
       "       0.3586141 , 0.35727998, 0.35618247, 0.35531942, 0.35468868,\n",
       "       0.3542881 , 0.35411552, 0.3541688 , 0.35444578, 0.35494432,\n",
       "       0.35566226, 0.35659745, 0.35774774, 0.35911098, 0.36068502,\n",
       "       0.3624677 , 0.36445687, 0.36665039, 0.36904611, 0.37164186,\n",
       "       0.3744355 , 0.37742489, 0.38060786, 0.38398226, 0.38754596,\n",
       "       0.39129678, 0.39523259, 0.39935123, 0.40365055, 0.4081284 ,\n",
       "       0.41278263, 0.41761108, 0.42261161, 0.42778207, 0.4331203 ,\n",
       "       0.43862415, 0.44429147, 0.45012011, 0.45610792, 0.46225275,\n",
       "       0.46855244, 0.47500484, 0.48160782, 0.4883592 , 0.49525684,\n",
       "       0.5022986 , 0.50948231, 0.51680583, 0.52426701, 0.53186369,\n",
       "       0.53959373, 0.54745497, 0.55544526, 0.56356245, 0.57180439,\n",
       "       0.58016893, 0.58865391, 0.59725719, 0.60597662, 0.61481004,\n",
       "       0.6237553 , 0.63281025, 0.64197274, 0.65124062, 0.66061173,\n",
       "       0.67008394, 0.67965507, 0.68932299, 0.69908555, 0.70894058,\n",
       "       0.71888594, 0.72891949, 0.73903906, 0.7492425 , 0.75952768])"
      ]
     },
     "execution_count": 6,
     "metadata": {},
     "output_type": "execute_result"
    }
   ],
   "source": [
    "#Evaluate polynomial on given sequence \n",
    "polynomial_sequence=np.polyval(coefs, sequence)\n",
    "polynomial_sequence"
   ]
  },
  {
   "cell_type": "code",
   "execution_count": 8,
   "metadata": {},
   "outputs": [
    {
     "data": {
      "image/png": "[encoded data removed]",
      "text/plain": [
       "<Figure size 432x288 with 1 Axes>"
      ]
     },
     "metadata": {
      "needs_background": "light"
     },
     "output_type": "display_data"
    }
   ],
   "source": [
    "plt.plot(sequence, polynomial_sequence)\n",
    "plt.show()"
   ]
  },
  {
   "cell_type": "markdown",
   "metadata": {},
   "source": [
    "## Determinant"
   ]
  },
  {
   "cell_type": "code",
   "execution_count": 9,
   "metadata": {},
   "outputs": [
    {
     "data": {
      "text/plain": [
       "matrix([[2, 4],\n",
       "        [5, 7]])"
      ]
     },
     "execution_count": 9,
     "metadata": {},
     "output_type": "execute_result"
    }
   ],
   "source": [
    "mat=np.mat([[2, 4], [5, 7]])\n",
    "mat"
   ]
  },
  {
   "cell_type": "code",
   "execution_count": 10,
   "metadata": {},
   "outputs": [
    {
     "name": "stdout",
     "output_type": "stream",
     "text": [
      "Determinant:  -5.999999999999998\n"
     ]
    }
   ],
   "source": [
    "print(\"Determinant: \", np.linalg.det(mat))"
   ]
  },
  {
   "cell_type": "markdown",
   "metadata": {},
   "source": [
    "## Finding the rank of  a matrix"
   ]
  },
  {
   "cell_type": "code",
   "execution_count": 11,
   "metadata": {},
   "outputs": [
    {
     "data": {
      "text/plain": [
       "array([[5, 3, 1],\n",
       "       [5, 3, 1],\n",
       "       [1, 0, 5]])"
      ]
     },
     "execution_count": 11,
     "metadata": {},
     "output_type": "execute_result"
    }
   ],
   "source": [
    "mat=np.array([[5, 3, 1], [5, 3, 1], [1, 0, 5]])\n",
    "mat"
   ]
  },
  {
   "cell_type": "code",
   "execution_count": 12,
   "metadata": {},
   "outputs": [
    {
     "name": "stdout",
     "output_type": "stream",
     "text": [
      "Rank: 2\n"
     ]
    }
   ],
   "source": [
    "print(\"Rank:\", np.linalg.matrix_rank(mat))"
   ]
  },
  {
   "cell_type": "markdown",
   "metadata": {},
   "source": [
    "## Matrix Inverse using Numpy"
   ]
  },
  {
   "cell_type": "code",
   "execution_count": 13,
   "metadata": {},
   "outputs": [
    {
     "name": "stdout",
     "output_type": "stream",
     "text": [
      "Inverse:\n",
      " [[-1.16666667  0.66666667]\n",
      " [ 0.83333333 -0.33333333]]\n"
     ]
    }
   ],
   "source": [
    "mat=np.mat([[2, 4], [5, 7]])\n",
    "inverse=np.linalg.inv(mat)\n",
    "print(\"Inverse:\\n\", inverse)"
   ]
  },
  {
   "cell_type": "markdown",
   "metadata": {},
   "source": [
    "## Solving Linear Equations using Numpy"
   ]
  },
  {
   "cell_type": "code",
   "execution_count": 14,
   "metadata": {},
   "outputs": [
    {
     "data": {
      "text/plain": [
       "array([ 50., 150.])"
      ]
     },
     "execution_count": 14,
     "metadata": {},
     "output_type": "execute_result"
    }
   ],
   "source": [
    "#Creating linear system of equations:\n",
    "# x1 + x2 =200\n",
    "# 3x1 + 2x2 = 450\n",
    "\n",
    "A=np.mat([[1, 1], [3, 2]])\n",
    "B=np.array([200, 450])\n",
    "\n",
    "solution=np.linalg.solve(A, B)\n",
    "solution"
   ]
  },
  {
   "cell_type": "markdown",
   "metadata": {},
   "source": [
    "## Decomposing a matrix using SVD"
   ]
  },
  {
   "cell_type": "code",
   "execution_count": 15,
   "metadata": {},
   "outputs": [
    {
     "name": "stdout",
     "output_type": "stream",
     "text": [
      "Left Singular Matrix: [[-0.70097269 -0.06420281 -0.7102924 ]\n",
      " [-0.6748668  -0.26235919  0.68972636]\n",
      " [-0.23063411  0.9628321   0.14057828]]\n",
      "Diagonal Matrix:  [8.42757145 4.89599358 0.07270729]\n",
      "Right Singular Matrix: [[-0.84363943 -0.48976369 -0.2200092 ]\n",
      " [-0.13684207 -0.20009952  0.97017237]\n",
      " [ 0.51917893 -0.84858218 -0.10179157]]\n"
     ]
    }
   ],
   "source": [
    "from scipy.linalg import svd\n",
    "\n",
    "mat=np.array([[5, 3, 1], [5, 3, 0], [1, 0, 5]])\n",
    "U, Sigma, V_transpose=svd(mat)\n",
    "print(\"Left Singular Matrix:\",U)\n",
    "print(\"Diagonal Matrix: \", Sigma)\n",
    "print(\"Right Singular Matrix:\", V_transpose)"
   ]
  },
  {
   "cell_type": "markdown",
   "metadata": {},
   "source": [
    "## Eigenvectors and Eigenvalues using NumPy"
   ]
  },
  {
   "cell_type": "code",
   "execution_count": 16,
   "metadata": {},
   "outputs": [
    {
     "data": {
      "text/plain": [
       "matrix([[2, 4],\n",
       "        [5, 7]])"
      ]
     },
     "execution_count": 16,
     "metadata": {},
     "output_type": "execute_result"
    }
   ],
   "source": [
    "mat=np.mat([[2, 4], [5, 7]])\n",
    "mat"
   ]
  },
  {
   "cell_type": "code",
   "execution_count": 17,
   "metadata": {},
   "outputs": [
    {
     "name": "stdout",
     "output_type": "stream",
     "text": [
      "Eigenvalues: [-0.62347538  9.62347538]\n",
      "Eigenvectors: [[-0.83619408 -0.46462222]\n",
      " [ 0.54843365 -0.885509  ]]\n"
     ]
    }
   ],
   "source": [
    "eigenvalues, eigenvectors=np.linalg.eig(mat)\n",
    "print(\"Eigenvalues:\", eigenvalues)\n",
    "print(\"Eigenvectors:\", eigenvectors)"
   ]
  },
  {
   "cell_type": "code",
   "execution_count": 18,
   "metadata": {},
   "outputs": [
    {
     "name": "stdout",
     "output_type": "stream",
     "text": [
      "Eigenvalues: [-0.62347538  9.62347538]\n"
     ]
    }
   ],
   "source": [
    "eigenvalues= np.linalg.eigvals(mat)\n",
    "print(\"Eigenvalues:\", eigenvalues)"
   ]
  },
  {
   "cell_type": "markdown",
   "metadata": {},
   "source": [
    "## Generating random numbers"
   ]
  },
  {
   "cell_type": "code",
   "execution_count": 19,
   "metadata": {},
   "outputs": [
    {
     "name": "stdout",
     "output_type": "stream",
     "text": [
      "Random Matrix: \n",
      " [[0.3087257  0.56422506 0.39266872]\n",
      " [0.01856059 0.86299672 0.56860887]\n",
      " [0.78569506 0.65115096 0.17412895]]\n"
     ]
    }
   ],
   "source": [
    "random_mat=np.random.random((3, 3))\n",
    "print(\"Random Matrix: \\n\",random_mat)"
   ]
  },
  {
   "cell_type": "code",
   "execution_count": null,
   "metadata": {},
   "outputs": [],
   "source": []
  }
 ],
 "metadata": {
  "kernelspec": {
   "display_name": "Python 3",
   "language": "python",
   "name": "python3"
  },
  "language_info": {
   "codemirror_mode": {
    "name": "ipython",
    "version": 3
   },
   "file_extension": ".py",
   "mimetype": "text/x-python",
   "name": "python",
   "nbconvert_exporter": "python",
   "pygments_lexer": "ipython3",
   "version": "3.8.5"
  }
 },
 "nbformat": 4,
 "nbformat_minor": 4
}
